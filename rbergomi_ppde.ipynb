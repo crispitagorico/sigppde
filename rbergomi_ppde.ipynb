{
 "cells": [
  {
   "cell_type": "code",
   "execution_count": 11,
   "metadata": {
    "colab": {
     "base_uri": "https://localhost:8080/"
    },
    "gather": {
     "logged": 1690137613761
    },
    "id": "iJv2D01QRPTO",
    "outputId": "9ed45d1c-0f86-4326-affe-728ce8bd47f7"
   },
   "outputs": [],
   "source": [
    "# !pip install git+https://github.com/crispitagorico/sigkernel.git\n",
    "# !git clone 'https://github.com/ryanmccrickerd/rough_bergomi.git'"
   ]
  },
  {
   "cell_type": "code",
   "execution_count": 5,
   "metadata": {
    "gather": {
     "logged": 1690137629935
    },
    "id": "rCD6FgadFjvr"
   },
   "outputs": [],
   "source": [
    "import numpy as np\n",
    "import torch\n",
    "import time\n",
    "import pickle\n",
    "import seaborn as sns\n",
    "\n",
    "from rbergomi import rBergomi_MC_pricer, rBergomi_sigkernel_pricer, grid_search_sigkernel_rBergomi\n",
    "from utils import *\n",
    "\n",
    "import warnings\n",
    "warnings.filterwarnings('ignore')"
   ]
  },
  {
   "cell_type": "code",
   "execution_count": 6,
   "metadata": {},
   "outputs": [],
   "source": [
    "device = torch.device(\"cuda\" if torch.cuda.is_available() else \"cpu\")"
   ]
  },
  {
   "cell_type": "code",
   "execution_count": 8,
   "metadata": {},
   "outputs": [],
   "source": [
    "with open('data.p', 'rb') as fp:\n",
    "    data = pickle.load(fp)\n",
    "\n",
    "sigma_t = data['sigma_t']\n",
    "sigma_x = data['sigma_x']\n",
    "sigma_sig = data['sigma_sig']\n",
    "lambda_ = data['lambda_']"
   ]
  },
  {
   "cell_type": "code",
   "execution_count": 9,
   "metadata": {},
   "outputs": [
    {
     "name": "stdout",
     "output_type": "stream",
     "text": [
      "100.0 1.0 1000.0 0.01\n"
     ]
    }
   ],
   "source": [
    "print(sigma_t, sigma_x, sigma_sig, lambda_)"
   ]
  },
  {
   "cell_type": "code",
   "execution_count": 18,
   "metadata": {
    "id": "T5q7TYWVPtbN"
   },
   "outputs": [],
   "source": [
    "# model parameters\n",
    "T          = 1.\n",
    "xi         = 0.055\n",
    "eta        = 1.9\n",
    "rho        = -0.9\n",
    "n_incs     = 10\n",
    "x_var      = 1.\n",
    "n_mc_exact = 10000\n",
    "n_eval     = 50\n",
    "\n",
    "# sigkernel PDE computation params\n",
    "dyadic_order, max_batch = 0, 200 "
   ]
  },
  {
   "cell_type": "code",
   "execution_count": 21,
   "metadata": {},
   "outputs": [
    {
     "name": "stdout",
     "output_type": "stream",
     "text": [
      "Computing true prices...\n",
      "Finshed computing true prices.\n",
      "MC | H: 0.0001 | Strike: 0.50 | Error type: 'MSE' | Precision: 0.0100 | Time: 0.147 sec | Samples: 1000\n",
      "MC | H: 0.0001 | Strike: 0.50 | Error type: 'MSE' | Precision: 0.0010 | Time: 0.146 sec | Samples: 1000\n",
      "MC | H: 0.0001 | Strike: 0.50 | Error type: 'MSE' | Precision: 0.0001 | Time: 0.277 sec | Samples: 1500\n",
      "MC | H: 0.0001 | Strike: 0.50 | Error type: 'MSE' | Precision: 0.0000 | Time: 0.400 sec | Samples: 2000\n",
      "Runtime exceeded. Samples: 11500. Error: 5.823837515852443e-06\n",
      "MC | H: 0.0001 | Strike: 0.50 | Error type: 'MSE' | Precision: 0.0000 | Time: 2.788 sec | Samples: 11500\n",
      "Computing true prices...\n",
      "Finshed computing true prices.\n",
      "MC | H: 0.0001 | Strike: 1.00 | Error type: 'MSE' | Precision: 0.0100 | Time: 0.149 sec | Samples: 1000\n",
      "MC | H: 0.0001 | Strike: 1.00 | Error type: 'MSE' | Precision: 0.0010 | Time: 0.147 sec | Samples: 1000\n",
      "MC | H: 0.0001 | Strike: 1.00 | Error type: 'MSE' | Precision: 0.0001 | Time: 0.273 sec | Samples: 1500\n",
      "MC | H: 0.0001 | Strike: 1.00 | Error type: 'MSE' | Precision: 0.0000 | Time: 0.920 sec | Samples: 4000\n",
      "MC | H: 0.0001 | Strike: 1.00 | Error type: 'MSE' | Precision: 0.0000 | Time: 2.189 sec | Samples: 9000\n",
      "Computing true prices...\n",
      "Finshed computing true prices.\n",
      "MC | H: 0.0001 | Strike: 1.50 | Error type: 'MSE' | Precision: 0.0100 | Time: 0.147 sec | Samples: 1000\n",
      "MC | H: 0.0001 | Strike: 1.50 | Error type: 'MSE' | Precision: 0.0010 | Time: 0.147 sec | Samples: 1000\n",
      "MC | H: 0.0001 | Strike: 1.50 | Error type: 'MSE' | Precision: 0.0001 | Time: 0.146 sec | Samples: 1000\n",
      "MC | H: 0.0001 | Strike: 1.50 | Error type: 'MSE' | Precision: 0.0000 | Time: 1.300 sec | Samples: 5500\n",
      "MC | H: 0.0001 | Strike: 1.50 | Error type: 'MSE' | Precision: 0.0000 | Time: 1.676 sec | Samples: 7000\n",
      "Computing true prices...\n",
      "Finshed computing true prices.\n",
      "MC | H: 0.1000 | Strike: 0.50 | Error type: 'MSE' | Precision: 0.0100 | Time: 0.145 sec | Samples: 1000\n",
      "MC | H: 0.1000 | Strike: 0.50 | Error type: 'MSE' | Precision: 0.0010 | Time: 0.146 sec | Samples: 1000\n",
      "MC | H: 0.1000 | Strike: 0.50 | Error type: 'MSE' | Precision: 0.0001 | Time: 0.144 sec | Samples: 1000\n",
      "MC | H: 0.1000 | Strike: 0.50 | Error type: 'MSE' | Precision: 0.0000 | Time: 0.270 sec | Samples: 1500\n",
      "Runtime exceeded. Samples: 11500. Error: 1.1418243476903201e-06\n",
      "MC | H: 0.1000 | Strike: 0.50 | Error type: 'MSE' | Precision: 0.0000 | Time: 2.810 sec | Samples: 11500\n",
      "Computing true prices...\n",
      "Finshed computing true prices.\n",
      "MC | H: 0.1000 | Strike: 1.00 | Error type: 'MSE' | Precision: 0.0100 | Time: 0.145 sec | Samples: 1000\n",
      "MC | H: 0.1000 | Strike: 1.00 | Error type: 'MSE' | Precision: 0.0010 | Time: 0.146 sec | Samples: 1000\n",
      "MC | H: 0.1000 | Strike: 1.00 | Error type: 'MSE' | Precision: 0.0001 | Time: 0.146 sec | Samples: 1000\n",
      "MC | H: 0.1000 | Strike: 1.00 | Error type: 'MSE' | Precision: 0.0000 | Time: 0.272 sec | Samples: 1500\n",
      "MC | H: 0.1000 | Strike: 1.00 | Error type: 'MSE' | Precision: 0.0000 | Time: 2.062 sec | Samples: 8500\n",
      "Computing true prices...\n"
     ]
    },
    {
     "ename": "KeyboardInterrupt",
     "evalue": "",
     "output_type": "error",
     "traceback": [
      "\u001b[0;31m---------------------------------------------------------------------------\u001b[0m",
      "\u001b[0;31mKeyboardInterrupt\u001b[0m                         Traceback (most recent call last)",
      "Cell \u001b[0;32mIn[21], line 16\u001b[0m\n\u001b[1;32m     14\u001b[0m         \u001b[38;5;28mprint\u001b[39m(\u001b[38;5;124m'\u001b[39m\u001b[38;5;124mComputing true prices...\u001b[39m\u001b[38;5;124m'\u001b[39m)\n\u001b[1;32m     15\u001b[0m         mc_pricer_exact \u001b[38;5;241m=\u001b[39m rBergomi_MC_pricer(n_incs, n_mc_exact, T, a, xi, eta, rho)\n\u001b[0;32m---> 16\u001b[0m         mc_prices_exact \u001b[38;5;241m=\u001b[39m \u001b[43mmc_pricer_exact\u001b[49m\u001b[38;5;241;43m.\u001b[39;49m\u001b[43mfit_predict\u001b[49m\u001b[43m(\u001b[49m\u001b[43mt_inds_eval\u001b[49m\u001b[43m,\u001b[49m\u001b[43m \u001b[49m\u001b[43mxs_eval\u001b[49m\u001b[43m,\u001b[49m\u001b[43m \u001b[49m\u001b[43mpaths_eval\u001b[49m\u001b[43m,\u001b[49m\u001b[43m \u001b[49m\u001b[43mpayoff\u001b[49m\u001b[43m)\u001b[49m\n\u001b[1;32m     17\u001b[0m         \u001b[38;5;28mprint\u001b[39m(\u001b[38;5;124m'\u001b[39m\u001b[38;5;124mFinshed computing true prices.\u001b[39m\u001b[38;5;124m'\u001b[39m)\n\u001b[1;32m     19\u001b[0m \u001b[38;5;66;03m#         plt.figure(figsize=(8,3))\u001b[39;00m\n\u001b[1;32m     20\u001b[0m \u001b[38;5;66;03m#         plt.plot(mc_prices_exact)\u001b[39;00m\n\u001b[1;32m     21\u001b[0m \u001b[38;5;66;03m#         plt.title('H: %2.4f, Strike: %2.2f' % (0.5+a, strike))    \u001b[39;00m\n\u001b[1;32m     22\u001b[0m \u001b[38;5;66;03m#         plt.show() \u001b[39;00m\n\u001b[1;32m     23\u001b[0m                 \n\u001b[1;32m     24\u001b[0m         \u001b[38;5;66;03m# for error_fn, error_type in zip([mse, mae], ['MSE', 'MAE']):\u001b[39;00m\n",
      "File \u001b[0;32m/mnt/batch/tasks/shared/LS_root/mounts/clusters/mlemercier1/code/Users/csalvi/ppdes/rbergomi.py:39\u001b[0m, in \u001b[0;36mrBergomi_MC_pricer.fit_predict\u001b[0;34m(self, t_inds_eval, xs_eval, paths_eval, payoff)\u001b[0m\n\u001b[1;32m     37\u001b[0m \u001b[38;5;28;01mfor\u001b[39;00m t_ind, x, path \u001b[38;5;129;01min\u001b[39;00m \u001b[38;5;28mzip\u001b[39m(t_inds_eval, xs_eval, paths_eval):\n\u001b[1;32m     38\u001b[0m     path \u001b[38;5;241m=\u001b[39m np\u001b[38;5;241m.\u001b[39mrepeat(path[:,\u001b[38;5;241m1\u001b[39m][np\u001b[38;5;241m.\u001b[39mnewaxis,:], \u001b[38;5;28mself\u001b[39m\u001b[38;5;241m.\u001b[39mn_samples_MC, axis\u001b[38;5;241m=\u001b[39m\u001b[38;5;241m0\u001b[39m)\n\u001b[0;32m---> 39\u001b[0m     X \u001b[38;5;241m=\u001b[39m \u001b[38;5;28;43mself\u001b[39;49m\u001b[38;5;241;43m.\u001b[39;49m\u001b[43mX\u001b[49m\u001b[43m(\u001b[49m\u001b[43mt_ind\u001b[49m\u001b[43m,\u001b[49m\u001b[43m \u001b[49m\u001b[43mx\u001b[49m\u001b[43m,\u001b[49m\u001b[43m \u001b[49m\u001b[43mpath\u001b[49m\u001b[43m)\u001b[49m\n\u001b[1;32m     40\u001b[0m     mc_prices\u001b[38;5;241m.\u001b[39mappend(np\u001b[38;5;241m.\u001b[39mmean([payoff(x[\u001b[38;5;241m-\u001b[39m\u001b[38;5;241m1\u001b[39m]) \u001b[38;5;28;01mfor\u001b[39;00m x \u001b[38;5;129;01min\u001b[39;00m X])) \u001b[38;5;66;03m# currently only for state-dependent payoffs\u001b[39;00m\n\u001b[1;32m     41\u001b[0m \u001b[38;5;28;01mreturn\u001b[39;00m np\u001b[38;5;241m.\u001b[39marray(mc_prices)\n",
      "File \u001b[0;32m/mnt/batch/tasks/shared/LS_root/mounts/clusters/mlemercier1/code/Users/csalvi/ppdes/rbergomi.py:32\u001b[0m, in \u001b[0;36mrBergomi_MC_pricer.X\u001b[0;34m(self, t_ind, x, path)\u001b[0m\n\u001b[1;32m     30\u001b[0m \u001b[38;5;124;03m\"\"\"rBergomi log-prices\"\"\"\u001b[39;00m\n\u001b[1;32m     31\u001b[0m V \u001b[38;5;241m=\u001b[39m \u001b[38;5;28mself\u001b[39m\u001b[38;5;241m.\u001b[39mV(t_ind, path)[:,t_ind:\u001b[38;5;241m-\u001b[39m\u001b[38;5;241m1\u001b[39m]\n\u001b[0;32m---> 32\u001b[0m \u001b[38;5;28;01mreturn\u001b[39;00m x \u001b[38;5;241m+\u001b[39m np\u001b[38;5;241m.\u001b[39mcumsum(np\u001b[38;5;241m.\u001b[39msqrt(V)\u001b[38;5;241m*\u001b[39m\u001b[38;5;28mself\u001b[39m\u001b[38;5;241m.\u001b[39mdB[:,t_ind:] \u001b[38;5;241m-\u001b[39m \u001b[38;5;241;43m.5\u001b[39;49m\u001b[38;5;241;43m*\u001b[39;49m\u001b[43mV\u001b[49m\u001b[38;5;241m*\u001b[39m\u001b[38;5;28mself\u001b[39m\u001b[38;5;241m.\u001b[39mdt, axis\u001b[38;5;241m=\u001b[39m\u001b[38;5;241m1\u001b[39m)\n",
      "\u001b[0;31mKeyboardInterrupt\u001b[0m: "
     ]
    }
   ],
   "source": [
    "for a in [-0.4999, -0.4, -0.2, 0.3]:\n",
    "    \n",
    "    # evaluation points\n",
    "    t_inds_eval = np.random.choice(n_incs, n_eval)\n",
    "    xs_eval     = generate_xs(xi, x_var, t_inds_eval)\n",
    "    paths_eval  = generate_theta_paths(t_inds_eval, n_incs, T, a)\n",
    "    \n",
    "    for strike in [0.5, 1., 1.5]:\n",
    "        \n",
    "        # call payoff\n",
    "        payoff = lambda x: max(np.exp(x) - strike, 0.)\n",
    "        \n",
    "        # ground truth prices\n",
    "        print('Computing true prices...')\n",
    "        mc_pricer_exact = rBergomi_MC_pricer(n_incs, n_mc_exact, T, a, xi, eta, rho)\n",
    "        mc_prices_exact = mc_pricer_exact.fit_predict(t_inds_eval, xs_eval, paths_eval, payoff)\n",
    "        print('Finshed computing true prices.')\n",
    "                \n",
    "#         plt.figure(figsize=(8,3))\n",
    "#         plt.plot(mc_prices_exact)\n",
    "#         plt.title('H: %2.4f, Strike: %2.2f' % (0.5+a, strike))    \n",
    "#         plt.show() \n",
    "                \n",
    "        # for error_fn, error_type in zip([mse, mae], ['MSE', 'MAE']):\n",
    "        for error_fn, error_type in zip([mse,], ['MSE',]):\n",
    "\n",
    "            if error_type == 'MSE':\n",
    "                precisions = [1e-2, 1e-3, 1e-4, 1e-5, 1e-6]\n",
    "            else:\n",
    "                precisions = [1e-1]\n",
    "\n",
    "            for precision in precisions:\n",
    "\n",
    "                # MC prices\n",
    "                n_mc, error_mc = 500, 1e9\n",
    "                timeout = time.time() + 60*0.5   # 5 minutes from now\n",
    "                while error_mc > precision:\n",
    "                    mc_pricer = rBergomi_MC_pricer(n_incs, n_mc, T, a, xi, eta, rho)\n",
    "                    t0 = time.time()\n",
    "                    mc_prices = mc_pricer.fit_predict(t_inds_eval, xs_eval, paths_eval, payoff)\n",
    "                    t1 = time.time()\n",
    "                    error_mc  = error_fn(mc_prices, mc_prices_exact)\n",
    "                    n_mc += 500\n",
    "                    if time.time() > timeout:\n",
    "                        print('Runtime exceeded. Samples: {}. Error: {}'.format(n_mc, error_mc))\n",
    "                        flag = False\n",
    "                        break\n",
    "\n",
    "                print('MC | H: %2.4f | Strike: %2.2f | Error type: %r | Precision: %2.4f | Time: %2.3f sec | Samples: %r' % (0.5+a, strike, error_type, precision, t1-t0, n_mc))\n",
    "\n",
    "#                 # PPDE prices            \n",
    "#                 m, n, error_sig = 200, 150, 1e9\n",
    "#                 timeout = time.time() + 60*5   # 5 minutes from now\n",
    "#                 flag = False\n",
    "#                 while error_sig > precision:\n",
    "#                     sig_pricer = rBergomi_sigkernel_pricer(n_incs, x_var, m, n, T, a, xi, eta, rho, sigma_t, sigma_x, sigma_sig, dyadic_order, max_batch, device, lambda_)\n",
    "#                     sig_pricer.fit(payoff)\n",
    "#                     t0 = time.time()\n",
    "#                     sig_prices = sig_pricer.predict(t_inds_eval, xs_eval, paths_eval) \n",
    "#                     t1 = time.time()\n",
    "#                     error_sig = error_fn(sig_prices, mc_prices_exact)\n",
    "#                     torch.cuda.empty_cache()\n",
    "#                     m += 200\n",
    "#                     n += 150\n",
    "#                     flag = True\n",
    "#                     if time.time() > timeout:\n",
    "#                         print('Runtime exceeded. Collocation points: ({}, {}). Error: {}'.format(m, n, error_sig))\n",
    "#                         flag = False\n",
    "#                         break\n",
    "                \n",
    "#                 if flag:\n",
    "#                     print('SK | H: %2.4f | Strike: %2.1f | Error type: %r | Precision: %2.8f| Time: %2.4f sec | Cpoints: (%r,%r)' % (0.5+a, strike, error_type, precision, t1-t0, m, n))"
   ]
  },
  {
   "cell_type": "code",
   "execution_count": null,
   "metadata": {},
   "outputs": [],
   "source": []
  }
 ],
 "metadata": {
  "accelerator": "GPU",
  "colab": {
   "provenance": []
  },
  "gpuClass": "standard",
  "kernel_info": {
   "name": "python38-azureml"
  },
  "kernelspec": {
   "display_name": "Python 3.8 - AzureML",
   "language": "python",
   "name": "python38-azureml"
  },
  "language_info": {
   "codemirror_mode": {
    "name": "ipython",
    "version": 3
   },
   "file_extension": ".py",
   "mimetype": "text/x-python",
   "name": "python",
   "nbconvert_exporter": "python",
   "pygments_lexer": "ipython3",
   "version": "3.8.10"
  },
  "microsoft": {
   "ms_spell_check": {
    "ms_spell_check_language": "en"
   }
  },
  "nteract": {
   "version": "nteract-front-end@1.0.0"
  }
 },
 "nbformat": 4,
 "nbformat_minor": 4
}

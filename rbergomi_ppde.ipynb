{
 "cells": [
  {
   "cell_type": "code",
   "execution_count": 1,
   "metadata": {
    "gather": {
     "logged": 1690137629935
    },
    "id": "rCD6FgadFjvr"
   },
   "outputs": [],
   "source": [
    "from tqdm import tqdm\n",
    "import matplotlib.pyplot as plt\n",
    "import time\n",
    "import seaborn as sns\n",
    "import jax.numpy as jnp\n",
    "import jax\n",
    "\n",
    "import rbergomi\n",
    "from utils import *\n",
    "\n",
    "import warnings\n",
    "warnings.filterwarnings('ignore')\n",
    "\n",
    "jax.config.update(\"jax_enable_x64\", True)"
   ]
  },
  {
   "cell_type": "code",
   "execution_count": 5,
   "metadata": {
    "id": "T5q7TYWVPtbN"
   },
   "outputs": [],
   "source": [
    "# rough Bergomi parameters\n",
    "T            = 1.0\n",
    "xi           = 0.055\n",
    "eta          = 1.9\n",
    "rho          = - 0.9\n",
    "x_var        = 3.0\n",
    "eps_paths    = 1e-2\n",
    "dtype        = jnp.float64\n",
    "path_measure = 'brownian'\n",
    "n_increments = 10\n",
    "t_grid       = jnp.linspace(0, T, 1 + n_increments)\n",
    "n_eval       = 10\n",
    "\n",
    "# sigkernel hyperparameters\n",
    "sig_samples_in          = [10, 50, 250] \n",
    "interior_boundary_ratio = 0.75\n",
    "sig_samples_b           = [int(interior_boundary_ratio * k) for k in sig_samples_in]\n",
    "t_scale                 = 1e0\n",
    "x_scale                 = 1e1\n",
    "sig_scales              = 1e-2 * jax.random.exponential(getkey(), shape=(1,), dtype=jnp.float64)\n",
    "refinement_factor       = 1\n",
    "static_kernel_kind      = 'linear'\n",
    "eps_derivatives         = 1e-2\n",
    "\n",
    "# MC sample paths\n",
    "mc_samples  = [int((1.0 + interior_boundary_ratio) * k) for k in sig_samples_in]"
   ]
  },
  {
   "cell_type": "code",
   "execution_count": 8,
   "metadata": {},
   "outputs": [
    {
     "data": {
      "text/plain": [
       "<module 'rbergomi' from '/mnt/batch/tasks/shared/LS_root/mounts/clusters/csalvi1/code/Users/csalvi/sigppde/rbergomi.py'>"
      ]
     },
     "execution_count": 8,
     "metadata": {},
     "output_type": "execute_result"
    }
   ],
   "source": [
    "import importlib\n",
    "importlib.reload(rbergomi)"
   ]
  },
  {
   "cell_type": "code",
   "execution_count": 9,
   "metadata": {},
   "outputs": [
    {
     "data": {
      "text/plain": [
       "3.0"
      ]
     },
     "execution_count": 9,
     "metadata": {},
     "output_type": "execute_result"
    }
   ],
   "source": [
    "x_var"
   ]
  },
  {
   "cell_type": "code",
   "execution_count": 16,
   "metadata": {},
   "outputs": [
    {
     "name": "stderr",
     "output_type": "stream",
     "text": [
      "  0%|          | 0/2 [00:00<?, ?it/s]\n",
      "  0%|          | 0/3 [00:00<?, ?it/s]\u001b[A\n",
      " 33%|███▎      | 1/3 [01:42<03:25, 102.66s/it]\u001b[A"
     ]
    },
    {
     "name": "stdout",
     "output_type": "stream",
     "text": [
      "a = -0.4, log strike = -2.3025850929940455\n",
      "MC: MSE = [Array(0.2070686, dtype=float64), Array(0.0079591, dtype=float64), Array(0.00803032, dtype=float64)]\n",
      "MC: MAE = [Array(1.31938771, dtype=float64), Array(0.26832033, dtype=float64), Array(0.23002447, dtype=float64)]\n",
      "Sig: MSE = [Array(0.20841061, dtype=float64), Array(0.00169831, dtype=float64), Array(0.00168679, dtype=float64)]\n",
      "Sig: MAE = [Array(0.63751202, dtype=float64), Array(0.07144307, dtype=float64), Array(0.06721668, dtype=float64)] \n",
      "\n"
     ]
    },
    {
     "name": "stderr",
     "output_type": "stream",
     "text": [
      "\n",
      " 67%|██████▋   | 2/3 [03:24<01:42, 102.35s/it]\u001b[A"
     ]
    },
    {
     "name": "stdout",
     "output_type": "stream",
     "text": [
      "a = -0.4, log strike = 0.0\n",
      "MC: MSE = [Array(0.00047504, dtype=float64), Array(0.00031074, dtype=float64), Array(1.73924033e-05, dtype=float64)]\n",
      "MC: MAE = [Array(0.06798544, dtype=float64), Array(0.05571345, dtype=float64), Array(0.01314468, dtype=float64)]\n",
      "Sig: MSE = [Array(0.15769603, dtype=float64), Array(0.00921622, dtype=float64), Array(0.00387793, dtype=float64)]\n",
      "Sig: MAE = [Array(0.79987951, dtype=float64), Array(0.26712049, dtype=float64), Array(0.14381548, dtype=float64)] \n",
      "\n"
     ]
    },
    {
     "name": "stderr",
     "output_type": "stream",
     "text": [
      "\n",
      "100%|██████████| 3/3 [05:07<00:00, 102.60s/it]\u001b[A\n",
      " 50%|█████     | 1/2 [05:07<05:07, 307.79s/it]"
     ]
    },
    {
     "name": "stdout",
     "output_type": "stream",
     "text": [
      "a = -0.4, log strike = 0.4054651081081644\n",
      "MC: MSE = [Array(0.0044637, dtype=float64), Array(0.00843129, dtype=float64), Array(0.0005036, dtype=float64)]\n",
      "MC: MAE = [Array(0.1552092, dtype=float64), Array(0.21004152, dtype=float64), Array(0.04841373, dtype=float64)]\n",
      "Sig: MSE = [Array(0.63052452, dtype=float64), Array(0.01221787, dtype=float64), Array(0.00735065, dtype=float64)]\n",
      "Sig: MAE = [Array(1.835, dtype=float64), Array(0.151, dtype=float64), Array(0.17217488, dtype=float64)] \n",
      "\n"
     ]
    },
    {
     "name": "stderr",
     "output_type": "stream",
     "text": [
      "\n",
      "  0%|          | 0/3 [00:00<?, ?it/s]\u001b[A\n",
      " 33%|███▎      | 1/3 [01:41<03:22, 101.39s/it]\u001b[A"
     ]
    },
    {
     "name": "stdout",
     "output_type": "stream",
     "text": [
      "a = -0.2, log strike = -2.3025850929940455\n",
      "MC: MSE = [Array(0.01982215, dtype=float64), Array(0.00059435, dtype=float64), Array(0.00135325, dtype=float64)]\n",
      "MC: MAE = [Array(0.3330306, dtype=float64), Array(0.06248508, dtype=float64), Array(0.07182088, dtype=float64)]\n",
      "Sig: MSE = [Array(0.11989827, dtype=float64), Array(0.00027182, dtype=float64), Array(0.00269041, dtype=float64)]\n",
      "Sig: MAE = [Array(0.63449488, dtype=float64), Array(0.02849488, dtype=float64), Array(0.0973111, dtype=float64)] \n",
      "\n"
     ]
    },
    {
     "name": "stderr",
     "output_type": "stream",
     "text": [
      "\n",
      " 67%|██████▋   | 2/3 [03:16<01:37, 97.95s/it] \u001b[A"
     ]
    },
    {
     "name": "stdout",
     "output_type": "stream",
     "text": [
      "a = -0.2, log strike = 0.0\n",
      "MC: MSE = [Array(0.01133104, dtype=float64), Array(0.00153786, dtype=float64), Array(0.00061837, dtype=float64)]\n",
      "MC: MAE = [Array(0.23417776, dtype=float64), Array(0.0945221, dtype=float64), Array(0.06798987, dtype=float64)]\n",
      "Sig: MSE = [Array(0.42017456, dtype=float64), Array(0.00349338, dtype=float64), Array(0.00467211, dtype=float64)]\n",
      "Sig: MAE = [Array(1.1832388, dtype=float64), Array(0.105, dtype=float64), Array(0.14306578, dtype=float64)] \n",
      "\n"
     ]
    },
    {
     "name": "stderr",
     "output_type": "stream",
     "text": [
      "\n",
      "100%|██████████| 3/3 [04:50<00:00, 96.77s/it]\u001b[A\n",
      "100%|██████████| 2/2 [09:58<00:00, 299.05s/it]"
     ]
    },
    {
     "name": "stdout",
     "output_type": "stream",
     "text": [
      "a = -0.2, log strike = 0.4054651081081644\n",
      "MC: MSE = [Array(0.00481117, dtype=float64), Array(0.04727701, dtype=float64), Array(0.00410989, dtype=float64)]\n",
      "MC: MAE = [Array(0.2161007, dtype=float64), Array(0.44946254, dtype=float64), Array(0.1225046, dtype=float64)]\n",
      "Sig: MSE = [Array(1.06280338, dtype=float64), Array(0.02118085, dtype=float64), Array(0.00350427, dtype=float64)]\n",
      "Sig: MAE = [Array(1.66057655, dtype=float64), Array(0.33391094, dtype=float64), Array(0.1007492, dtype=float64)] \n",
      "\n"
     ]
    },
    {
     "name": "stderr",
     "output_type": "stream",
     "text": [
      "\n"
     ]
    }
   ],
   "source": [
    "for a in tqdm([-0.4, -0.2]):\n",
    "        \n",
    "    for strike in tqdm([0.1, 1.0, 1.5]):\n",
    "        \n",
    "        log_strike = jnp.log(strike)\n",
    "                    \n",
    "        # evaluation points\n",
    "        t_inds_eval  = jax.random.choice(getkey(), a=jnp.arange(n_increments), shape=(n_eval,)) \n",
    "        # t_inds_eval  = jax.random.choice(getkey(), a=jnp.array([n_increments]), shape=(n_eval,))\n",
    "        t_eval = jnp.array([t_grid[t] for t in t_inds_eval], dtype=jnp.float64)\n",
    "        xs_eval      = jnp.array(generate_xs(xi, x_var, t_eval), dtype=jnp.float64)[:,0]\n",
    "        # paths_eval = generate_brownian_paths(T, n_increments, n_eval)\n",
    "        paths_eval   = generate_theta_paths(t_inds_eval, n_increments, T, a, eps=eps_paths)\n",
    "\n",
    "        # payoff\n",
    "        payoff = lambda x: max(jnp.exp(x) - jnp.exp(log_strike), 0.)\n",
    "\n",
    "        # true prices\n",
    "        true_prices = rbergomi.rBergomi_MC_pricer(n_increments, 5000, T, a, xi, eta, rho).fit_predict(t_inds_eval, xs_eval, paths_eval, payoff)\n",
    "        \n",
    "        # MC prices\n",
    "        mses_mc = []\n",
    "        maes_mc = []\n",
    "        # fig, ax = plt.subplots(1, len(mc_samples), figsize=(14, 4))\n",
    "        for i, n_mc in enumerate(mc_samples):\n",
    "            mc_pricer = rbergomi.rBergomi_MC_pricer(n_increments, n_mc, T, a, xi, eta, rho)\n",
    "            mc_prices = mc_pricer.fit_predict(t_inds_eval, xs_eval, paths_eval, payoff)\n",
    "            mses_mc.append(mse(true_prices, mc_prices))\n",
    "            maes_mc.append(mae(true_prices, mc_prices)) \n",
    "            # sns.regplot(x=true_prices, y=mc_prices, ax=ax[i])\n",
    "        # plt.tight_layout()\n",
    "        # plt.show()\n",
    "                \n",
    "        # sigkernel prices\n",
    "        mses_sig = []\n",
    "        maes_sig = []\n",
    "        # fig, ax = plt.subplots(1, len(sig_samples_in), figsize=(14, 4))\n",
    "        for i, (m, n) in enumerate(zip(sig_samples_in, sig_samples_b)):\n",
    "            sig_pricer = rbergomi.rBergomi_sigkernel_pricer(n_increments=n_increments, x_var=x_var, m=m, n=n, T=T, a=a, xi=xi, eta=eta, rho=rho, \n",
    "                                                            t_scale=t_scale, x_scale=x_scale, sig_scales=sig_scales, \n",
    "                                                            path_measure=path_measure, \n",
    "                                                            refinement_factor=refinement_factor, \n",
    "                                                            static_kernel_kind=static_kernel_kind, \n",
    "                                                            dtype=dtype, \n",
    "                                                            eps_paths=eps_paths, \n",
    "                                                            eps_derivatives=eps_derivatives)\n",
    "            sig_pricer.fit(payoff)\n",
    "\n",
    "            # t_inds_eval = sig_pricer.t_inds_boundary\n",
    "            # xs_eval = sig_pricer.xs_boundary\n",
    "            # paths_eval = sig_pricer.paths_boundary\n",
    "            # true_prices = jnp.array([payoff(x) for x in xs_eval])\n",
    "\n",
    "            # t_inds_eval = sig_pricer.t_inds\n",
    "            # xs_eval = sig_pricer.xs\n",
    "            # paths_eval = sig_pricer.paths\n",
    "            # true_prices = rbergomi.rBergomi_MC_pricer(n_increments, 100, T, a, xi, eta, rho).fit_predict(t_inds_eval, xs_eval, paths_eval, payoff)\n",
    "\n",
    "            # true_prices = jnp.exp(xs_eval)\n",
    "\n",
    "            sig_prices = sig_pricer.predict(t_inds_eval, xs_eval, paths_eval) \n",
    "            sig_prices = jnp.round(sig_prices, 3)\n",
    "\n",
    "            mses_sig.append(mse(true_prices, sig_prices))\n",
    "            maes_sig.append(mae(true_prices, sig_prices))\n",
    "            \n",
    "            # sns.regplot(x=true_prices, y=sig_prices, ax=ax[i])\n",
    "\n",
    "        # plt.tight_layout()\n",
    "        # plt.show()\n",
    "                        \n",
    "        print(f'a = {a}, log strike = {log_strike}')\n",
    "        print(f'MC: MSE = {mses_mc}')\n",
    "        print(f'MC: MAE = {maes_mc}')\n",
    "        print(f'Sig: MSE = {mses_sig}')\n",
    "        print(f'Sig: MAE = {maes_sig}', '\\n')\n",
    "    \n",
    "        # fig, ax = plt.subplots(1, 2, figsize=(10,4))\n",
    "        # ax[0].plot(mc_samples, mses_mc, label='MSE MC')\n",
    "        # ax[0].plot(mc_samples, mses_sig, label='MSE Sig')\n",
    "        # ax[1].plot(mc_samples, maes_mc, label='MAE MC')\n",
    "        # ax[1].plot(mc_samples, maes_sig, label='MAE Sig')\n",
    "        # ax[0].legend()\n",
    "        # ax[1].legend()\n",
    "        # ax[0].set_title(f'a: {a}, log-strike: {log_strike}')\n",
    "        # plt.show()"
   ]
  },
  {
   "cell_type": "code",
   "execution_count": null,
   "metadata": {},
   "outputs": [],
   "source": []
  }
 ],
 "metadata": {
  "accelerator": "GPU",
  "colab": {
   "provenance": []
  },
  "gpuClass": "standard",
  "kernel_info": {
   "name": "python38-azureml"
  },
  "kernelspec": {
   "display_name": "sigkerax",
   "language": "python",
   "name": "sigkerax"
  },
  "language_info": {
   "codemirror_mode": {
    "name": "ipython",
    "version": 3
   },
   "file_extension": ".py",
   "mimetype": "text/x-python",
   "name": "python",
   "nbconvert_exporter": "python",
   "pygments_lexer": "ipython3",
   "version": "3.10.12"
  },
  "microsoft": {
   "ms_spell_check": {
    "ms_spell_check_language": "en"
   }
  },
  "nteract": {
   "version": "nteract-front-end@1.0.0"
  }
 },
 "nbformat": 4,
 "nbformat_minor": 4
}
